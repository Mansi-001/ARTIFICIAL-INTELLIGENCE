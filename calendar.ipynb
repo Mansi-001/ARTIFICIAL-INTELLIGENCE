{
  "nbformat": 4,
  "nbformat_minor": 0,
  "metadata": {
    "colab": {
      "provenance": [],
      "authorship_tag": "ABX9TyOAOt2Ktm+wzqjizMoLVGuz",
      "include_colab_link": true
    },
    "kernelspec": {
      "name": "python3",
      "display_name": "Python 3"
    },
    "language_info": {
      "name": "python"
    }
  },
  "cells": [
    {
      "cell_type": "markdown",
      "metadata": {
        "id": "view-in-github",
        "colab_type": "text"
      },
      "source": [
        "<a href=\"https://colab.research.google.com/github/MansiSoni01/ARTIFICIAL-INTELLIGENCE/blob/main/calendar.ipynb\" target=\"_parent\"><img src=\"https://colab.research.google.com/assets/colab-badge.svg\" alt=\"Open In Colab\"/></a>"
      ]
    },
    {
      "cell_type": "code",
      "execution_count": null,
      "metadata": {
        "id": "A2vQkkL-2Vpr",
        "colab": {
          "base_uri": "https://localhost:8080/"
        },
        "outputId": "c983f4d0-c035-4e85-b633-306b4a37fa54"
      },
      "outputs": [
        {
          "output_type": "stream",
          "name": "stdout",
          "text": [
            "Enter year : 2001\n",
            "Enter month : 6\n",
            "     June 2001\n",
            "Mo Tu We Th Fr Sa Su\n",
            "             1  2  3\n",
            " 4  5  6  7  8  9 10\n",
            "11 12 13 14 15 16 17\n",
            "18 19 20 21 22 23 24\n",
            "25 26 27 28 29 30\n",
            "\n"
          ]
        }
      ],
      "source": [
        "\"\"\"\n",
        "Write a python program to generate Calendar for given month and year:\n",
        "(a)By using inbuilt library \n",
        "\"\"\"\n",
        "import calendar\n",
        "\n",
        "y = int(input(\"Enter year : \"))\n",
        "\n",
        "m = int(input(\"Enter month : \"))\n",
        "\n",
        "print(calendar.month(y, m))"
      ]
    },
    {
      "cell_type": "code",
      "source": [
        "# Python code to print Calendar\n",
        "# Without use of Calendar module\n",
        "   \n",
        "mm = int(input(\"Enter month : \"))\n",
        "yy = int(input(\"Enter year : \"))\n",
        "  \n",
        "month ={1:'January', 2:'February', 3:'March', \n",
        "        4:'April', 5:'May', 6:'June', 7:'July',\n",
        "        8:'August', 9:'September', 10:'October',\n",
        "        11:'November', 12:'December'}\n",
        "   \n",
        "# code below for calculation of odd days\n",
        "day =(yy-1)% 400\n",
        "day = (day//100)*5 + ((day % 100) - (day % 100)//4) + ((day % 100)//4)*2\n",
        "day = day % 7\n",
        "  \n",
        "nly =[31, 28, 31, 30, 31, 30, \n",
        "      31, 31, 30, 31, 30, 31]\n",
        "ly =[31, 29, 31, 30, 31, 30, \n",
        "     31, 31, 30, 31, 30, 31]\n",
        "s = 0\n",
        "  \n",
        "if yy % 4 == 0:\n",
        "    for i in range(mm-1):\n",
        "        s+= ly[i]\n",
        "else:\n",
        "    for i in range(mm-1):\n",
        "        s+= nly[i]\n",
        "  \n",
        "day += s % 7\n",
        "day = day % 7\n",
        "   \n",
        "# variable used for white space filling \n",
        "# where date not present\n",
        "space =''\n",
        "space = space.rjust(2, ' ')\n",
        "  \n",
        "# code below is to print the calendar\n",
        "print(month[mm], yy)\n",
        "print('Su', 'Mo', 'Tu', 'We', 'Th', 'Fr', 'Sa')\n",
        "  \n",
        "if mm == 9 or mm == 4 or mm == 6 or mm == 11: \n",
        "    for i in range(31 + day):\n",
        "          \n",
        "        if i<= day:\n",
        "            print(space, end =' ')\n",
        "        else:\n",
        "            print(\"{:02d}\".format(i-day), end =' ')\n",
        "            if (i + 1)% 7 == 0:\n",
        "                print()\n",
        "elif mm == 2:\n",
        "    if yy % 4 == 0:\n",
        "        p = 30\n",
        "    else:\n",
        "        p = 29\n",
        "          \n",
        "    for i in range(p + day):\n",
        "        if i<= day:\n",
        "            print(space, end =' ')\n",
        "        else:\n",
        "            print(\"{:02d}\".format(i-day), end =' ')\n",
        "            if (i + 1)% 7 == 0:\n",
        "                print() \n",
        "else:\n",
        "    for i in range(32 + day):\n",
        "          \n",
        "        if i<= day:\n",
        "            print(space, end =' ')\n",
        "        else:\n",
        "            print(\"{:02d}\".format(i-day), end =' ')\n",
        "            if (i + 1)% 7 == 0:\n",
        "                print()"
      ],
      "metadata": {
        "colab": {
          "base_uri": "https://localhost:8080/"
        },
        "id": "OhbxUs_p_1Te",
        "outputId": "c6532de5-adbd-4670-ce9d-fa829d6dc885"
      },
      "execution_count": 3,
      "outputs": [
        {
          "output_type": "stream",
          "name": "stdout",
          "text": [
            "Enter month : 6\n",
            "Enter year : 2001\n",
            "June 2001\n",
            "Su Mo Tu We Th Fr Sa\n",
            "               01 02 \n",
            "03 04 05 06 07 08 09 \n",
            "10 11 12 13 14 15 16 \n",
            "17 18 19 20 21 22 23 \n",
            "24 25 26 27 28 29 30 \n"
          ]
        }
      ]
    }
  ]
}