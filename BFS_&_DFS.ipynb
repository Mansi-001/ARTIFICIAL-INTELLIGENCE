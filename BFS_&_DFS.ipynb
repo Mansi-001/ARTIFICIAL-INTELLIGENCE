{
  "nbformat": 4,
  "nbformat_minor": 0,
  "metadata": {
    "colab": {
      "provenance": [],
      "authorship_tag": "ABX9TyNyFgAVkM6YgYgFVkY/AcP2",
      "include_colab_link": true
    },
    "kernelspec": {
      "name": "python3",
      "display_name": "Python 3"
    },
    "language_info": {
      "name": "python"
    }
  },
  "cells": [
    {
      "cell_type": "markdown",
      "metadata": {
        "id": "view-in-github",
        "colab_type": "text"
      },
      "source": [
        "<a href=\"https://colab.research.google.com/github/MansiSoni01/ARTIFICIAL-INTELLIGENCE/blob/main/BFS_%26_DFS.ipynb\" target=\"_parent\"><img src=\"https://colab.research.google.com/assets/colab-badge.svg\" alt=\"Open In Colab\"/></a>"
      ]
    },
    {
      "cell_type": "code",
      "execution_count": 1,
      "metadata": {
        "colab": {
          "base_uri": "https://localhost:8080/"
        },
        "id": "34LdL2SNpnjR",
        "outputId": "63eeac22-87c1-4a61-da85-9b2a0532da23"
      },
      "outputs": [
        {
          "output_type": "stream",
          "name": "stdout",
          "text": [
            "defaultdict(<class 'list'>, {0: [1, 2], 1: [2], 2: [0, 3], 3: [3]})\n",
            "Following is DFS from (starting from vertex 2)\n",
            "2 0 1 3 \n",
            " Following is BFS from (starting from vertex 2)\n",
            "2 0 3 1 "
          ]
        }
      ],
      "source": [
        "# Python3 program to print DFS traversal\n",
        "# from a given given graph\n",
        "from collections import defaultdict\n",
        " \n",
        "class Graph:\n",
        "    \n",
        "    # Constructor\n",
        "    def __init__(self):\n",
        "        # default dictionary to store graph\n",
        "        self.graph = defaultdict(list)\n",
        "\n",
        "    # function to add an edge to graph\n",
        "    def addEdge(self, u, v):\n",
        "        self.graph[u].append(v)\n",
        "\n",
        "    # A function used by DFS\n",
        "    def DFSUtil(self, v, visited):\n",
        "\n",
        "        # Mark the current node as visited\n",
        "        # and print it\n",
        "        visited.add(v)\n",
        "        print(v, end=' ')\n",
        "\n",
        "        # Recur for all the vertices\n",
        "        # adjacent to this vertex\n",
        "        for neighbour in self.graph[v]:\n",
        "            if neighbour not in visited:\n",
        "                self.DFSUtil(neighbour, visited)\n",
        "\n",
        "    # The function to do DFS traversal. It uses\n",
        "    # recursive DFSUtil()\n",
        "    def DFS(self, v):\n",
        "\n",
        "        # Create a set to store visited vertices\n",
        "        visited = set()\n",
        "\n",
        "        # Call the recursive helper function\n",
        "        # to print DFS traversal\n",
        "        self.DFSUtil(v, visited)\n",
        "    \n",
        "    # Function to print a BFS of graph\n",
        "    def BFS(self, s):\n",
        " \n",
        "        # Mark all the vertices as not visited\n",
        "        visited = [False] * (max(self.graph) + 1)\n",
        " \n",
        "        # Create a queue for BFS\n",
        "        queue = []\n",
        " \n",
        "        # Mark the source node as\n",
        "        # visited and enqueue it\n",
        "        queue.append(s)\n",
        "        visited[s] = True\n",
        " \n",
        "        while queue:\n",
        " \n",
        "            # Dequeue a vertex from\n",
        "            # queue and print it\n",
        "            s = queue.pop(0)\n",
        "            print (s, end = \" \")\n",
        " \n",
        "            # Get all adjacent vertices of the\n",
        "            # dequeued vertex s. If a adjacent\n",
        "            # has not been visited, then mark it\n",
        "            # visited and enqueue it\n",
        "            for i in self.graph[s]:\n",
        "                if visited[i] == False:\n",
        "                    queue.append(i)\n",
        "                    visited[i] = True\n",
        "\n",
        "g = Graph()\n",
        "g.addEdge(0, 1)\n",
        "g.addEdge(0, 2)\n",
        "g.addEdge(1, 2)\n",
        "g.addEdge(2, 0)\n",
        "g.addEdge(2, 3)\n",
        "g.addEdge(3, 3)\n",
        "print(g.graph)\n",
        "print(\"Following is DFS from (starting from vertex 2)\")\n",
        "g.DFS(2)\n",
        "print(\"\\n Following is BFS from (starting from vertex 2)\")\n",
        "g.BFS(2)"
      ]
    }
  ]
}